{
 "cells": [
  {
   "cell_type": "code",
   "execution_count": 1,
   "id": "ca2aaaec",
   "metadata": {},
   "outputs": [],
   "source": [
    "import os\n",
    "import numpy as np\n",
    "import pandas as pd\n",
    "import geopandas as gpd\n",
    "import matplotlib.pyplot as plt\n",
    "from shapely.geometry import Polygon\n",
    "from shapely.geometry.point import Point\n",
    "from matplotlib.lines import Line2D\n",
    "import matplotlib.patches as mpatches\n",
    "from matplotlib_scalebar.scalebar import ScaleBar"
   ]
  },
  {
   "cell_type": "code",
   "execution_count": 2,
   "id": "23a25d66",
   "metadata": {},
   "outputs": [],
   "source": [
    "#creating spatial connection matrix\n",
    "def connection_matrixz_standardized_process(df):\n",
    "    mt = df.iloc[:,1:].values.copy()\n",
    "    mt_T = mt.T\n",
    "    df_T = df.copy()\n",
    "    df_T.iloc[:,1:] = mt_T\n",
    "    df_T['commuting_sum'] = 0\n",
    "    \n",
    "    for i in range(len(df_T)):\n",
    "        df_T.loc[i,'commuting_sum'] = sum(df_T.iloc[i,1:333])\n",
    "    \n",
    "    isolated_szone = []\n",
    "    for x in range(len(df_T)):\n",
    "        if df_T.loc[x,'commuting_sum'] != 0:\n",
    "            df_T.iloc[x,1:333] = df_T.iloc[x,1:333] / df_T.loc[x,'commuting_sum']\n",
    "            \n",
    "    for y in range(len(df_T)):\n",
    "        if df_T.loc[y,'commuting_sum'] == 0:\n",
    "            isolated_szone.append(df_T.loc[y,'SUBZONE_N'])\n",
    "        \n",
    "    mt2 = df_T.iloc[:,1:333].values.copy()\n",
    "    row,col = np.diag_indices_from(mt2)\n",
    "    mt2[row,col] = 0\n",
    "    df_T.iloc[:,1:333] = mt2.copy()\n",
    "    df_T = df_T.drop('commuting_sum',axis = 1)\n",
    "    return df_T,isolated_szone"
   ]
  },
  {
   "cell_type": "code",
   "execution_count": 3,
   "id": "65b985e0",
   "metadata": {},
   "outputs": [],
   "source": [
    "# connection matrix for clusters\n",
    "mt_path_2020 = r'D:\\NUS\\project\\LTA_data\\commuting_flow_matrix\\sum\\2020'\n",
    "mt_path_2021 = r'D:\\NUS\\project\\LTA_data\\commuting_flow_matrix\\sum\\2021'\n",
    "lis_file_2020 = os.listdir(path=mt_path_2020)\n",
    "lis_file_2021 = os.listdir(path=mt_path_2021)\n",
    "mt_2020 = pd.read_csv(mt_path_2020+'\\\\'+lis_file_2020[0])\n",
    "mt_2021 = pd.read_csv(mt_path_2021+'\\\\'+lis_file_2021[0])\n",
    "for i in lis_file_2020:\n",
    "    mt_tmp = pd.read_csv(mt_path_2020+'\\\\'+i)\n",
    "    mt_2020.iloc[:,1:] = mt_2020.iloc[:,1:]+mt_tmp.iloc[:,1:]\n",
    "mt_2020.iloc[:,1:] = mt_2020.iloc[:,1:]/12\n",
    "    \n",
    "for i in lis_file_2021:\n",
    "    mt_tmp = pd.read_csv(mt_path_2021+'\\\\'+i)\n",
    "    mt_2021.iloc[:,1:] = mt_2021.iloc[:,1:]+mt_tmp.iloc[:,1:]\n",
    "mt_2021.iloc[:,1:] = mt_2021.iloc[:,1:]/12"
   ]
  },
  {
   "cell_type": "code",
   "execution_count": 4,
   "id": "4242ac3e",
   "metadata": {},
   "outputs": [],
   "source": [
    "#connection matrix for covid visit\n",
    "mt_path_2021 = r'D:\\NUS\\project\\LTA_data\\commuting_flow_matrix\\sum\\2021'\n",
    "mt_path_2022 = r'D:\\NUS\\project\\LTA_data\\commuting_flow_matrix\\sum\\2022'\n",
    "lis_file_2021 = os.listdir(path=mt_path_2021)\n",
    "lis_file_2022 = os.listdir(path=mt_path_2022)\n",
    "mt_2021_10 = pd.read_csv(mt_path_2021+'\\\\'+lis_file_2021[1])\n",
    "mt_2021_11 = pd.read_csv(mt_path_2021+'\\\\'+lis_file_2021[2])\n",
    "mt_2021_12 = pd.read_csv(mt_path_2021+'\\\\'+lis_file_2021[3])\n",
    "mt_2022_01 = pd.read_csv(mt_path_2022+'\\\\'+lis_file_2022[0])\n",
    "mt_2022_02 = pd.read_csv(mt_path_2022+'\\\\'+lis_file_2022[1])\n",
    "mt_2022_03 = pd.read_csv(mt_path_2022+'\\\\'+lis_file_2022[2])\n",
    "mt_2022_04 = pd.read_csv(mt_path_2022+'\\\\'+lis_file_2022[3])\n",
    "\n",
    "mt_phase1 = mt_2021_10\n",
    "\n",
    "mt_phase2 = mt_2021_11\n",
    "mt_phase2.iloc[:,1:] = mt_phase2.iloc[:,1:]+mt_2021_12.iloc[:,1:]\n",
    "mt_phase2.iloc[:,1:] = mt_phase2.iloc[:,1:]+mt_2022_01.iloc[:,1:]\n",
    "mt_phase2.iloc[:,1:] = mt_phase2.iloc[:,1:]/3\n",
    "\n",
    "mt_phase3 = mt_2022_02\n",
    "mt_phase3.iloc[:,1:] = mt_phase3.iloc[:,1:]+mt_2022_02.iloc[:,1:]\n",
    "mt_phase3.iloc[:,1:] = mt_phase3.iloc[:,1:]/2\n",
    "\n",
    "mt_phase4 = mt_2022_03\n",
    "mt_phase4.iloc[:,1:] = mt_phase4.iloc[:,1:]+mt_2022_04.iloc[:,1:]\n",
    "mt_phase4.iloc[:,1:] = mt_phase4.iloc[:,1:]/2"
   ]
  },
  {
   "cell_type": "code",
   "execution_count": 5,
   "id": "9a9f2fdd",
   "metadata": {},
   "outputs": [
    {
     "name": "stdout",
     "output_type": "stream",
     "text": [
      "the number of isolated subzone:19\n",
      "the number of isolated subzone:22\n",
      "the number of isolated subzone:32\n",
      "the number of isolated subzone:22\n",
      "the number of isolated subzone:22\n",
      "the number of isolated subzone:22\n"
     ]
    }
   ],
   "source": [
    "mt_cf_2020,isolated_szone = connection_matrixz_standardized_process(mt_2020)\n",
    "print(\"the number of isolated subzone:{}\".format(len(isolated_szone)))\n",
    "\n",
    "mt_cf_2021,isolated_szone = connection_matrixz_standardized_process(mt_2021)\n",
    "print(\"the number of isolated subzone:{}\".format(len(isolated_szone)))\n",
    "\n",
    "mt_phase1,isolated_szone = connection_matrixz_standardized_process(mt_phase1)\n",
    "print(\"the number of isolated subzone:{}\".format(len(isolated_szone)))\n",
    "\n",
    "mt_phase2,isolated_szone = connection_matrixz_standardized_process(mt_phase2)\n",
    "print(\"the number of isolated subzone:{}\".format(len(isolated_szone)))\n",
    "\n",
    "mt_phase3,isolated_szone = connection_matrixz_standardized_process(mt_phase3)\n",
    "print(\"the number of isolated subzone:{}\".format(len(isolated_szone)))\n",
    "\n",
    "mt_phase4,isolated_szone = connection_matrixz_standardized_process(mt_phase4)\n",
    "print(\"the number of isolated subzone:{}\".format(len(isolated_szone)))"
   ]
  },
  {
   "cell_type": "code",
   "execution_count": 6,
   "id": "03076b41",
   "metadata": {},
   "outputs": [],
   "source": [
    "mt_cf_2020.to_csv(r'D:\\NUS\\project\\LTA_data\\commuting_flow_matrix\\mt_clusters_2020.csv',index = False)\n",
    "mt_cf_2021.to_csv(r'D:\\NUS\\project\\LTA_data\\commuting_flow_matrix\\mt_clusters_2021.csv',index = False)\n",
    "mt_phase1.to_csv(r'D:\\NUS\\project\\LTA_data\\commuting_flow_matrix\\mt_phase1.csv',index = False)\n",
    "mt_phase2.to_csv(r'D:\\NUS\\project\\LTA_data\\commuting_flow_matrix\\mt_phase2.csv',index = False)\n",
    "mt_phase3.to_csv(r'D:\\NUS\\project\\LTA_data\\commuting_flow_matrix\\mt_phase3.csv',index = False)\n",
    "mt_phase4.to_csv(r'D:\\NUS\\project\\LTA_data\\commuting_flow_matrix\\mt_phase4.csv',index = False)\n"
   ]
  },
  {
   "cell_type": "code",
   "execution_count": null,
   "id": "721b07db",
   "metadata": {},
   "outputs": [],
   "source": []
  }
 ],
 "metadata": {
  "kernelspec": {
   "display_name": "Python 3 (ipykernel)",
   "language": "python",
   "name": "python3"
  },
  "language_info": {
   "codemirror_mode": {
    "name": "ipython",
    "version": 3
   },
   "file_extension": ".py",
   "mimetype": "text/x-python",
   "name": "python",
   "nbconvert_exporter": "python",
   "pygments_lexer": "ipython3",
   "version": "3.9.7"
  }
 },
 "nbformat": 4,
 "nbformat_minor": 5
}
